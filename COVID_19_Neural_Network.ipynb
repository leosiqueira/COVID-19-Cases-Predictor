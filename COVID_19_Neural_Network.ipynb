{
  "nbformat": 4,
  "nbformat_minor": 0,
  "metadata": {
    "colab": {
      "name": "COVID-19 Neural Network",
      "provenance": [],
      "collapsed_sections": [],
      "authorship_tag": "ABX9TyNOrn5CMzzC4Asi8wZge28x",
      "include_colab_link": true
    },
    "kernelspec": {
      "name": "python3",
      "display_name": "Python 3"
    }
  },
  "cells": [
    {
      "cell_type": "markdown",
      "metadata": {
        "id": "view-in-github",
        "colab_type": "text"
      },
      "source": [
        "<a href=\"https://colab.research.google.com/github/samarthkadaba/COVID-19-Cases-Predictor/blob/master/COVID_19_Neural_Network.ipynb\" target=\"_parent\"><img src=\"https://colab.research.google.com/assets/colab-badge.svg\" alt=\"Open In Colab\"/></a>"
      ]
    },
    {
      "cell_type": "code",
      "metadata": {
        "id": "zpK656ijQBAt",
        "colab_type": "code",
        "colab": {}
      },
      "source": [
        "import matplotlib.pyplot as plt\n",
        "import pandas as pd\n",
        "import numpy as np\n",
        "from urllib.request import Request, urlopen\n",
        "from bs4 import BeautifulSoup\n",
        "import seaborn as sns\n",
        "import re\n",
        "\n",
        "from sklearn.model_selection import train_test_split\n",
        "from sklearn.model_selection import cross_val_score\n",
        "from sklearn.model_selection import GridSearchCV\n",
        "from sklearn.model_selection import KFold\n",
        "from sklearn.pipeline import Pipeline\n",
        "from sklearn.preprocessing import MinMaxScaler\n",
        "from tensorflow.python.keras.models import Sequential\n",
        "from tensorflow.python.keras.layers import Dense, Activation, Dropout, LeakyReLU\n",
        "from tensorflow.python.keras.layers import advanced_activations\n",
        "from tensorflow.python.keras.wrappers.scikit_learn import KerasRegressor\n",
        "from tensorflow.python.keras.activations import relu, sigmoid, linear, exponential, softmax, tanh"
      ],
      "execution_count": 0,
      "outputs": []
    },
    {
      "cell_type": "code",
      "metadata": {
        "id": "hew0fW2Fa2-y",
        "colab_type": "code",
        "colab": {}
      },
      "source": [
        "def updateData():  \n",
        "\n",
        "  ## Web-scraping data based on Worldometers.com COVID-19 daily updates\n",
        "\n",
        "  site = \"https://www.worldometers.info/coronavirus/country/us/\"\n",
        "  hdr = {'User-Agent': 'Mozilla/5.0'}\n",
        "  req = Request(site,headers=hdr)\n",
        "  pd.set_option('display.max_rows', None)\n",
        "  pd.set_option('display.max_columns', None)\n",
        "  page = urlopen(req)\n",
        "  soup = BeautifulSoup(page)\n",
        "  table = soup.find('table')\n",
        "  table_rows = table.find_all('tr')\n",
        "  col_labels = soup.find_all('th')\n",
        "  all_headers = []\n",
        "  col_str = str(col_labels)\n",
        "  cleantext2 = BeautifulSoup(col_str, \"lxml\").get_text()\n",
        "  all_headers.append(cleantext2)\n",
        "  df2 = pd.DataFrame(all_headers)\n",
        "  df3 = df2[0].str.split(',', expand=True)\n",
        "  data = []\n",
        "  for tr in table_rows:\n",
        "      td = tr.find_all('td')\n",
        "      row = [i.text for i in td]\n",
        "      data.append(row)\n",
        "  \n",
        "  \n",
        "  df = pd.DataFrame(data)\n",
        "  frames = [df3, df]\n",
        "  df4 = pd.concat(frames)\n",
        "  df4[0] = df4[0].str.strip('[')\n",
        "  df4.drop(df4.index[[0,2]], inplace = True)\n",
        "  df4.drop(df4.columns[[2, 4, 5, 6, 7, 8, 9, 10, 11, 12, 13, 14, 15, 16, 17, 18, 19, 20, 21, 22, 23, 24, 25, 26, 27, 28]], axis=1, inplace=True)\n",
        "  df4[0] = df4[0].str.replace(r'\\n', '')\n",
        "  df4[1] = (df4[1].str.replace(r',', ''))\n",
        "  df4[3] = df4[3].str.replace(r'\\n', '')\n",
        "  df4[3][51, 57, 58] = 0.00\n",
        "  df4[3] = (df4[3].str.replace(r',', ''))\n",
        "  df4 = df4.fillna(0)\n",
        "\n",
        "\n",
        "  df5 = df4.iloc[0:57, :]\n",
        "  df5 = df5.reindex([5, 12, 8, 2, 9, 10, 17, 13, 20, 4, 3, 21, 11, 23, 7, 18, 16, 22, 19, 24, 15, 35, 25, 26, 6, 34, 32, 30, 14, 29, 37, 27, 38, 55, 28, 39, 42, 46, 31, 47, 45, 41, 44, 48, 36, 40, 49, 50, 52, 33, 43, 51, 53, 56, 57, 58])\n",
        "  df5.drop(df5.index[[52, 53, 54, 55]], inplace = True)\n",
        "\n",
        "    \n",
        "  return df5\n"
      ],
      "execution_count": 0,
      "outputs": []
    },
    {
      "cell_type": "code",
      "metadata": {
        "id": "Nq-7ngHIKGER",
        "colab_type": "code",
        "colab": {}
      },
      "source": [
        "\n",
        "def loadData(df5):\n",
        "  data = pd.read_csv('/content/COVID-19_Data_04122020.csv')\n",
        "  data = pd.DataFrame(data, columns = ['example', 'state', 'pop', 'density', 'days', 'cases', 'deaths'])\n",
        "  num_examples = data['example'].count()\n",
        "  data = data.head(num_examples)\n",
        "  numexamples = data.shape[0]\n",
        "  dc = data.iloc[numexamples-52:numexamples, :]\n",
        "  dc.loc[:, 'days'] = dc.loc[:, 'days']+1\n",
        "  dc.loc[:, 'cases'] =  df5.iloc[:, 1].values\n",
        "  dc.loc[:, 'deaths'] = df5.iloc[:, 2].values\n",
        "  frames = [data, dc]\n",
        "  data = pd.concat(frames)\n",
        "  data.to_csv(r'/content/COVID-19_Data_04132020.csv', index = False)\n",
        "  x = (data[['pop', 'density', 'days']])\n",
        "  x = x.to_numpy()\n",
        "  x = x.astype(float)\n",
        "  y = (data[['cases']])\n",
        "  y = y.to_numpy()\n",
        "  y = y.astype(float)\n",
        "  y = np.reshape(y, (-1,1))\n",
        "\n",
        "  return x,y\n"
      ],
      "execution_count": 0,
      "outputs": []
    },
    {
      "cell_type": "code",
      "metadata": {
        "id": "UdRPbOseXlB_",
        "colab_type": "code",
        "colab": {}
      },
      "source": [
        "def plotData(x, y, xlabel, ylabel):\n",
        "\n",
        "  plt.xlabel(xlabel)\n",
        "  plt.ylabel(ylabel)\n",
        "  plt.scatter([x], [y], marker = 'o')"
      ],
      "execution_count": 0,
      "outputs": []
    },
    {
      "cell_type": "code",
      "metadata": {
        "id": "RphF1ZydQJyR",
        "colab_type": "code",
        "colab": {}
      },
      "source": [
        "web_data = updateData()\n",
        "x, y = loadData(web_data)\n",
        "\n",
        "scaler_x = MinMaxScaler()\n",
        "scaler_y = MinMaxScaler()\n",
        "print(scaler_x.fit(x))\n",
        "xscale=scaler_x.transform(x)\n",
        "print(scaler_y.fit(y))\n",
        "yscale=scaler_y.transform(y)\n",
        "\n",
        "X_train, X_test, y_train, y_test = train_test_split(xscale, yscale)"
      ],
      "execution_count": 0,
      "outputs": []
    },
    {
      "cell_type": "code",
      "metadata": {
        "id": "zRvZEzdbQ1Oa",
        "colab_type": "code",
        "outputId": "64b5a920-850e-4b7f-c8fa-0b2661a0785b",
        "colab": {
          "base_uri": "https://localhost:8080/",
          "height": 34
        }
      },
      "source": [
        "def create_model(layers, activation):\n",
        "  model = Sequential()\n",
        "  for i, nodes in enumerate(layers):\n",
        "   \n",
        "    if(i == 0):\n",
        "      model.add(Dense(nodes, input_dim = 3, kernel_initializer = 'normal', activation='linear'))\n",
        "  \n",
        "    else:\n",
        "      model.add(Dense(nodes, activation = activation))\n",
        "\n",
        "  model.add(Dense(1, activation = 'linear'))\n",
        "\n",
        "  model.compile(loss = 'mse', optimizer = 'adam', metrics = ['mse', 'mae'])\n",
        "\n",
        "  return model\n",
        "\n",
        "model_checked = KerasRegressor(build_fn = create_model, verbose = 0)\n",
        "model_checked"
      ],
      "execution_count": 46,
      "outputs": [
        {
          "output_type": "execute_result",
          "data": {
            "text/plain": [
              "<tensorflow.python.keras.wrappers.scikit_learn.KerasRegressor at 0x7f8cffc5e160>"
            ]
          },
          "metadata": {
            "tags": []
          },
          "execution_count": 46
        }
      ]
    },
    {
      "cell_type": "code",
      "metadata": {
        "id": "6ThAnDNHjYER",
        "colab_type": "code",
        "colab": {}
      },
      "source": [
        "##Automatic Hyperparameter optimization with GridSearch CV\n",
        "\n",
        "layers = [(512, 256), (512, 256, 128)]\n",
        "activations = ['sigmoid', 'selu']\n",
        "param_grid = dict(layers = layers, activation=activations, batch_size = [52,104,208, 416], epochs = [500,1000,1500])\n",
        "grid = GridSearchCV(estimator = model_checked, param_grid = param_grid, cv=KFold(n_splits = 3, shuffle=True))\n",
        "grid_result = grid.fit(X_train, y_train)\n",
        "print([grid_result.best_score_, grid_result.best_params_])\n",
        "fitted_model = grid_result.best_estimator_"
      ],
      "execution_count": 0,
      "outputs": []
    },
    {
      "cell_type": "code",
      "metadata": {
        "id": "seyZItHjqhd3",
        "colab_type": "code",
        "colab": {}
      },
      "source": [
        "##Manually Update Network Paramters\n",
        "\n",
        "model = Sequential()\n",
        "model.add(Dense(2048, input_dim = 3, kernel_initializer = 'normal', activation = 'linear'))\n",
        "model.add(Dense(1024, activation = 'sigmoid'))\n",
        "model.add(Dense(512, activation = 'sigmoid'))\n",
        "model.add(Dense(1, activation = 'linear'))\n",
        "model.compile(loss = 'mse', optimizer = 'adam', metrics = ['mse', 'mae'])"
      ],
      "execution_count": 0,
      "outputs": []
    },
    {
      "cell_type": "code",
      "metadata": {
        "id": "vXdSiVQGPQqf",
        "colab_type": "code",
        "colab": {}
      },
      "source": [
        "\n",
        "\n",
        "history = model.fit(X_train, y_train, verbose = 1, validation_split = 0.2, batch_size = len(X_train), epochs = 1500)\n"
      ],
      "execution_count": 0,
      "outputs": []
    },
    {
      "cell_type": "code",
      "metadata": {
        "id": "_SD_RRizSzKz",
        "colab_type": "code",
        "colab": {}
      },
      "source": [
        "print(history.history.keys())\n",
        "#Loss\n",
        "plt.plot(history.history['loss'])\n",
        "plt.plot(history.history['val_loss'])\n",
        "plt.title('model loss')\n",
        "plt.ylabel('loss')\n",
        "plt.xlabel('epoch')\n",
        "plt.legend(['train', 'validation'], loc = 'upper left')\n",
        "plt.show()"
      ],
      "execution_count": 0,
      "outputs": []
    },
    {
      "cell_type": "code",
      "metadata": {
        "id": "MOSjk2MrXdYA",
        "colab_type": "code",
        "colab": {}
      },
      "source": [
        "## Visualize Data\n",
        "x, y = loadData(web_data)\n",
        "plotData(x[:, 0], y, 'Population', 'Number of Cases')\n",
        "plt.figure()\n",
        "plt.axis([0, 2000, 0, 15000])\n",
        "plotData(x[:, 1], y, 'Population Denisty', 'Number of Cases')\n",
        "plt.figure()\n",
        "plt.axis([0, 70, 0, 10000])\n",
        "plotData(x[:, 2], y, 'Days Since First Case', 'Number of Cases')"
      ],
      "execution_count": 0,
      "outputs": []
    },
    {
      "cell_type": "code",
      "metadata": {
        "id": "rfxP-J5RUqRs",
        "colab_type": "code",
        "colab": {}
      },
      "source": [
        "## Compare prediction on entire training set to confirm linearity \n",
        "\n",
        "x, y = loadData(web_data)\n",
        "x = np.expand_dims(x, axis = 1)\n",
        "predictions = []\n",
        "for i in range(len(x)):\n",
        "  x[i]= scaler_x.transform(x[i].reshape(1,-1))\n",
        "  ynew= model.predict(x[i])\n",
        "  #invert normalize\n",
        "  ynew = scaler_y.inverse_transform(ynew.reshape(1,-1))\n",
        "  x[i] = scaler_x.inverse_transform(x[i])\n",
        "  predictions.append(ynew[0])\n",
        "##print(\"X=%s, Predicted=%s\" % (Xnew[0], ynew[0]))\n",
        "plt.figure()\n",
        "plt.axis([0, 10000, 0, 10000])\n",
        "plotData(y, predictions, 'measured', 'predicted' )\n",
        "for i in range(len(predictions)):\n",
        "  print(i+1, predictions[i])\n"
      ],
      "execution_count": 0,
      "outputs": []
    },
    {
      "cell_type": "code",
      "metadata": {
        "id": "FJH3XFlhbakG",
        "colab_type": "code",
        "outputId": "37839fc0-a71e-4245-b541-d5fdf83b9e5b",
        "colab": {
          "base_uri": "https://localhost:8080/",
          "height": 84
        }
      },
      "source": [
        "## Extrapolation predictions\n",
        "\n",
        "pop = float(input(\"Enter the popualtion: \"))\n",
        "dense = float(input(\"Enter the population density: \"))\n",
        "days = float(input(\"Enter the days since first case: \"))\n",
        "x_spec = [[pop, dense, days]]\n",
        "x_spec = scaler_x.transform(x_spec)\n",
        "y_hat = model.predict(x_spec)\n",
        "y_hat = scaler_y.inverse_transform(y_hat.reshape(-1,1))\n",
        "x_spec = scaler_x.inverse_transform(x_spec)\n",
        "print(\"X: %s, Predicted = %s\" % (x_spec[0], y_hat[0]))"
      ],
      "execution_count": 17,
      "outputs": [
        {
          "output_type": "stream",
          "text": [
            "Enter the popualtion: 5851754\n",
            "Enter the population density: 108.05\n",
            "Enter the days since first case: 54\n",
            "X: [5.851754e+06 1.080500e+02 5.400000e+01], Predicted = [4285.8354]\n"
          ],
          "name": "stdout"
        }
      ]
    },
    {
      "cell_type": "code",
      "metadata": {
        "id": "bln9EbKIP_iP",
        "colab_type": "code",
        "colab": {}
      },
      "source": [
        ""
      ],
      "execution_count": 0,
      "outputs": []
    }
  ]
}